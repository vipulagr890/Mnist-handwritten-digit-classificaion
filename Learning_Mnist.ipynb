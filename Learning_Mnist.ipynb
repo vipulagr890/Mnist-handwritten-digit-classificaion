{
  "nbformat": 4,
  "nbformat_minor": 0,
  "metadata": {
    "colab": {
      "name": "Learning Mnist.ipynb",
      "provenance": [],
      "collapsed_sections": [],
      "authorship_tag": "ABX9TyNcaHpj5eGNMWINNX1i3BRY",
      "include_colab_link": true
    },
    "kernelspec": {
      "name": "python3",
      "display_name": "Python 3"
    },
    "accelerator": "GPU",
    "widgets": {
      "application/vnd.jupyter.widget-state+json": {
        "d66aff15081448f19a4af7322891ddc1": {
          "model_module": "@jupyter-widgets/controls",
          "model_name": "HBoxModel",
          "state": {
            "_view_name": "HBoxView",
            "_dom_classes": [],
            "_model_name": "HBoxModel",
            "_view_module": "@jupyter-widgets/controls",
            "_model_module_version": "1.5.0",
            "_view_count": null,
            "_view_module_version": "1.5.0",
            "box_style": "",
            "layout": "IPY_MODEL_bab26084c9c64f76ba90ca5014740ef5",
            "_model_module": "@jupyter-widgets/controls",
            "children": [
              "IPY_MODEL_1d77a094929c475aaaa7ffb25b3a137c",
              "IPY_MODEL_24cc72aaa45b40c98a73359cda78a4d8"
            ]
          }
        },
        "bab26084c9c64f76ba90ca5014740ef5": {
          "model_module": "@jupyter-widgets/base",
          "model_name": "LayoutModel",
          "state": {
            "_view_name": "LayoutView",
            "grid_template_rows": null,
            "right": null,
            "justify_content": null,
            "_view_module": "@jupyter-widgets/base",
            "overflow": null,
            "_model_module_version": "1.2.0",
            "_view_count": null,
            "flex_flow": null,
            "width": null,
            "min_width": null,
            "border": null,
            "align_items": null,
            "bottom": null,
            "_model_module": "@jupyter-widgets/base",
            "top": null,
            "grid_column": null,
            "overflow_y": null,
            "overflow_x": null,
            "grid_auto_flow": null,
            "grid_area": null,
            "grid_template_columns": null,
            "flex": null,
            "_model_name": "LayoutModel",
            "justify_items": null,
            "grid_row": null,
            "max_height": null,
            "align_content": null,
            "visibility": null,
            "align_self": null,
            "height": null,
            "min_height": null,
            "padding": null,
            "grid_auto_rows": null,
            "grid_gap": null,
            "max_width": null,
            "order": null,
            "_view_module_version": "1.2.0",
            "grid_template_areas": null,
            "object_position": null,
            "object_fit": null,
            "grid_auto_columns": null,
            "margin": null,
            "display": null,
            "left": null
          }
        },
        "1d77a094929c475aaaa7ffb25b3a137c": {
          "model_module": "@jupyter-widgets/controls",
          "model_name": "IntProgressModel",
          "state": {
            "_view_name": "ProgressView",
            "style": "IPY_MODEL_094c0bd6a31e402e885d79072741142f",
            "_dom_classes": [],
            "description": "Dl Completed...: 100%",
            "_model_name": "IntProgressModel",
            "bar_style": "success",
            "max": 4,
            "_view_module": "@jupyter-widgets/controls",
            "_model_module_version": "1.5.0",
            "value": 4,
            "_view_count": null,
            "_view_module_version": "1.5.0",
            "orientation": "horizontal",
            "min": 0,
            "description_tooltip": null,
            "_model_module": "@jupyter-widgets/controls",
            "layout": "IPY_MODEL_d6e5c7287aaf45309471334046a5fd84"
          }
        },
        "24cc72aaa45b40c98a73359cda78a4d8": {
          "model_module": "@jupyter-widgets/controls",
          "model_name": "HTMLModel",
          "state": {
            "_view_name": "HTMLView",
            "style": "IPY_MODEL_a9652618ee8f4ea2a105c3f9f150db0c",
            "_dom_classes": [],
            "description": "",
            "_model_name": "HTMLModel",
            "placeholder": "​",
            "_view_module": "@jupyter-widgets/controls",
            "_model_module_version": "1.5.0",
            "value": " 4/4 [00:08&lt;00:00,  2.21s/ file]",
            "_view_count": null,
            "_view_module_version": "1.5.0",
            "description_tooltip": null,
            "_model_module": "@jupyter-widgets/controls",
            "layout": "IPY_MODEL_2d29d75fe48e4ed3a5cc6eab4d58e8d9"
          }
        },
        "094c0bd6a31e402e885d79072741142f": {
          "model_module": "@jupyter-widgets/controls",
          "model_name": "ProgressStyleModel",
          "state": {
            "_view_name": "StyleView",
            "_model_name": "ProgressStyleModel",
            "description_width": "initial",
            "_view_module": "@jupyter-widgets/base",
            "_model_module_version": "1.5.0",
            "_view_count": null,
            "_view_module_version": "1.2.0",
            "bar_color": null,
            "_model_module": "@jupyter-widgets/controls"
          }
        },
        "d6e5c7287aaf45309471334046a5fd84": {
          "model_module": "@jupyter-widgets/base",
          "model_name": "LayoutModel",
          "state": {
            "_view_name": "LayoutView",
            "grid_template_rows": null,
            "right": null,
            "justify_content": null,
            "_view_module": "@jupyter-widgets/base",
            "overflow": null,
            "_model_module_version": "1.2.0",
            "_view_count": null,
            "flex_flow": null,
            "width": null,
            "min_width": null,
            "border": null,
            "align_items": null,
            "bottom": null,
            "_model_module": "@jupyter-widgets/base",
            "top": null,
            "grid_column": null,
            "overflow_y": null,
            "overflow_x": null,
            "grid_auto_flow": null,
            "grid_area": null,
            "grid_template_columns": null,
            "flex": null,
            "_model_name": "LayoutModel",
            "justify_items": null,
            "grid_row": null,
            "max_height": null,
            "align_content": null,
            "visibility": null,
            "align_self": null,
            "height": null,
            "min_height": null,
            "padding": null,
            "grid_auto_rows": null,
            "grid_gap": null,
            "max_width": null,
            "order": null,
            "_view_module_version": "1.2.0",
            "grid_template_areas": null,
            "object_position": null,
            "object_fit": null,
            "grid_auto_columns": null,
            "margin": null,
            "display": null,
            "left": null
          }
        },
        "a9652618ee8f4ea2a105c3f9f150db0c": {
          "model_module": "@jupyter-widgets/controls",
          "model_name": "DescriptionStyleModel",
          "state": {
            "_view_name": "StyleView",
            "_model_name": "DescriptionStyleModel",
            "description_width": "",
            "_view_module": "@jupyter-widgets/base",
            "_model_module_version": "1.5.0",
            "_view_count": null,
            "_view_module_version": "1.2.0",
            "_model_module": "@jupyter-widgets/controls"
          }
        },
        "2d29d75fe48e4ed3a5cc6eab4d58e8d9": {
          "model_module": "@jupyter-widgets/base",
          "model_name": "LayoutModel",
          "state": {
            "_view_name": "LayoutView",
            "grid_template_rows": null,
            "right": null,
            "justify_content": null,
            "_view_module": "@jupyter-widgets/base",
            "overflow": null,
            "_model_module_version": "1.2.0",
            "_view_count": null,
            "flex_flow": null,
            "width": null,
            "min_width": null,
            "border": null,
            "align_items": null,
            "bottom": null,
            "_model_module": "@jupyter-widgets/base",
            "top": null,
            "grid_column": null,
            "overflow_y": null,
            "overflow_x": null,
            "grid_auto_flow": null,
            "grid_area": null,
            "grid_template_columns": null,
            "flex": null,
            "_model_name": "LayoutModel",
            "justify_items": null,
            "grid_row": null,
            "max_height": null,
            "align_content": null,
            "visibility": null,
            "align_self": null,
            "height": null,
            "min_height": null,
            "padding": null,
            "grid_auto_rows": null,
            "grid_gap": null,
            "max_width": null,
            "order": null,
            "_view_module_version": "1.2.0",
            "grid_template_areas": null,
            "object_position": null,
            "object_fit": null,
            "grid_auto_columns": null,
            "margin": null,
            "display": null,
            "left": null
          }
        }
      }
    }
  },
  "cells": [
    {
      "cell_type": "markdown",
      "metadata": {
        "id": "view-in-github",
        "colab_type": "text"
      },
      "source": [
        "<a href=\"https://colab.research.google.com/github/vipulagr890/Mnist-handwritten-digit-classificaion/blob/master/Learning_Mnist.ipynb\" target=\"_parent\"><img src=\"https://colab.research.google.com/assets/colab-badge.svg\" alt=\"Open In Colab\"/></a>"
      ]
    },
    {
      "cell_type": "markdown",
      "metadata": {
        "id": "PmtpQYCFbv8q",
        "colab_type": "text"
      },
      "source": [
        "## This project is created to practise the tensorflow and understanding the working of Layers using opensourse mnist data set.\n"
      ]
    },
    {
      "cell_type": "code",
      "metadata": {
        "id": "K5iWQEshc11z",
        "colab_type": "code",
        "colab": {}
      },
      "source": [
        "import numpy as np\n",
        "import tensorflow as tf\n",
        "import tensorflow_datasets as tfds"
      ],
      "execution_count": 0,
      "outputs": []
    },
    {
      "cell_type": "code",
      "metadata": {
        "id": "Dwx11fo3dMic",
        "colab_type": "code",
        "outputId": "25819c61-3ac7-4113-c217-5bef437d29d1",
        "colab": {
          "base_uri": "https://localhost:8080/",
          "height": 34
        }
      },
      "source": [
        "print(tf.__version__)"
      ],
      "execution_count": 0,
      "outputs": [
        {
          "output_type": "stream",
          "text": [
            "2.2.0-rc3\n"
          ],
          "name": "stdout"
        }
      ]
    },
    {
      "cell_type": "code",
      "metadata": {
        "id": "nrPNf47Sj0LU",
        "colab_type": "code",
        "outputId": "50cd9b0c-deac-4eda-9758-dd3cdb83a75b",
        "colab": {
          "base_uri": "https://localhost:8080/",
          "height": 202,
          "referenced_widgets": [
            "d66aff15081448f19a4af7322891ddc1",
            "bab26084c9c64f76ba90ca5014740ef5",
            "1d77a094929c475aaaa7ffb25b3a137c",
            "24cc72aaa45b40c98a73359cda78a4d8",
            "094c0bd6a31e402e885d79072741142f",
            "d6e5c7287aaf45309471334046a5fd84",
            "a9652618ee8f4ea2a105c3f9f150db0c",
            "2d29d75fe48e4ed3a5cc6eab4d58e8d9"
          ]
        }
      },
      "source": [
        "Mnist_datasets, Mnist_info = tfds.load(name='mnist',with_info = True,  as_supervised = True)\n",
        "\n",
        "Mnist_train, Mnist_test = Mnist_datasets['train'], Mnist_datasets['test']\n",
        "\n",
        "validation_samples_datasets = 0.1 * Mnist_info.splits['train'].num_examples\n",
        "validation_samples_datasets = tf.cast(validation_samples_datasets, tf.int64)\n",
        "\n",
        "num_test_samples = Mnist_info.splits['test'].num_examples\n",
        "num_test_samples = tf.cast(num_test_samples, tf.int64)\n",
        "\n",
        "def scale(image, label):\n",
        "    image  = tf.cast(image, tf.float32)\n",
        "    image /= 255.\n",
        "    return image, label\n",
        "\n",
        "scaled_train_and_validation_data = Mnist_train.map(scale)\n",
        "\n",
        "test_data = Mnist_test.map(scale)\n",
        "\n",
        "BUFFER_SIZE = 10000\n",
        "\n",
        "shuffled_trained_and_validation_data = scaled_train_and_validation_data.shuffle(BUFFER_SIZE)\n",
        "\n",
        "validation_data = shuffled_trained_and_validation_data.take(validation_samples_datasets)\n",
        "train_data = shuffled_trained_and_validation_data.skip(validation_samples_datasets)\n",
        "\n",
        "Batch_size = 100\n",
        "\n",
        "train_data = train_data.batch(Batch_size)\n",
        "validation_data = validation_data.batch(validation_samples_datasets)\n",
        "test_data = test_data.batch(num_test_samples)\n",
        "\n",
        "validation_input, validation_target = next(iter(validation_data))"
      ],
      "execution_count": 0,
      "outputs": [
        {
          "output_type": "stream",
          "text": [
            "\u001b[1mDownloading and preparing dataset mnist/3.0.0 (download: 11.06 MiB, generated: Unknown size, total: 11.06 MiB) to /root/tensorflow_datasets/mnist/3.0.0...\u001b[0m\n"
          ],
          "name": "stdout"
        },
        {
          "output_type": "stream",
          "text": [
            "WARNING:absl:Dataset mnist is hosted on GCS. It will automatically be downloaded to your\n",
            "local data directory. If you'd instead prefer to read directly from our public\n",
            "GCS bucket (recommended if you're running on GCP), you can instead set\n",
            "data_dir=gs://tfds-data/datasets.\n",
            "\n"
          ],
          "name": "stderr"
        },
        {
          "output_type": "display_data",
          "data": {
            "application/vnd.jupyter.widget-view+json": {
              "model_id": "d66aff15081448f19a4af7322891ddc1",
              "version_minor": 0,
              "version_major": 2
            },
            "text/plain": [
              "HBox(children=(IntProgress(value=0, description='Dl Completed...', max=4, style=ProgressStyle(description_widt…"
            ]
          },
          "metadata": {
            "tags": []
          }
        },
        {
          "output_type": "stream",
          "text": [
            "\n",
            "\n",
            "\u001b[1mDataset mnist downloaded and prepared to /root/tensorflow_datasets/mnist/3.0.0. Subsequent calls will reuse this data.\u001b[0m\n"
          ],
          "name": "stdout"
        }
      ]
    },
    {
      "cell_type": "code",
      "metadata": {
        "id": "KaxsxMkvkKxF",
        "colab_type": "code",
        "colab": {}
      },
      "source": [
        "input_size = 784\n",
        "output_size = 10\n",
        "hidden_layer_size = 100\n",
        "\n",
        "model = tf.keras.Sequential([\n",
        "    \n",
        "            tf.keras.layers.Flatten(input_shape =(28,28,1)),\n",
        "            tf.keras.layers.Dense(hidden_layer_size, activation = 'relu'),\n",
        "            tf.keras.layers.Dense(hidden_layer_size, activation = 'relu'),\n",
        "            tf.keras.layers.Dense(hidden_layer_size, activation = 'softmax')     \n",
        "])\n"
      ],
      "execution_count": 0,
      "outputs": []
    },
    {
      "cell_type": "code",
      "metadata": {
        "id": "OuNuaaaAkP_Y",
        "colab_type": "code",
        "colab": {}
      },
      "source": [
        "model.compile(optimizer = 'adam', loss = 'sparse_categorical_crossentropy', metrics = ['accuracy'])"
      ],
      "execution_count": 0,
      "outputs": []
    },
    {
      "cell_type": "code",
      "metadata": {
        "id": "gLqC3VSLrCIS",
        "colab_type": "code",
        "outputId": "025616e3-242c-46f2-a9bc-bbe7e7819400",
        "colab": {
          "base_uri": "https://localhost:8080/",
          "height": 272
        }
      },
      "source": [
        "num_epochs = 7\n",
        "\n",
        "model.fit(train_data, epochs = num_epochs, validation_data = (validation_input, validation_target), verbose = 2)"
      ],
      "execution_count": 0,
      "outputs": [
        {
          "output_type": "stream",
          "text": [
            "Epoch 1/7\n",
            "540/540 - 10s - loss: 0.0577 - accuracy: 0.9828 - val_loss: 0.0608 - val_accuracy: 0.9813\n",
            "Epoch 2/7\n",
            "540/540 - 11s - loss: 0.0488 - accuracy: 0.9848 - val_loss: 0.0548 - val_accuracy: 0.9848\n",
            "Epoch 3/7\n",
            "540/540 - 11s - loss: 0.0416 - accuracy: 0.9872 - val_loss: 0.0487 - val_accuracy: 0.9863\n",
            "Epoch 4/7\n",
            "540/540 - 11s - loss: 0.0329 - accuracy: 0.9897 - val_loss: 0.0439 - val_accuracy: 0.9860\n",
            "Epoch 5/7\n",
            "540/540 - 11s - loss: 0.0286 - accuracy: 0.9916 - val_loss: 0.0398 - val_accuracy: 0.9882\n",
            "Epoch 6/7\n",
            "540/540 - 11s - loss: 0.0231 - accuracy: 0.9929 - val_loss: 0.0487 - val_accuracy: 0.9878\n",
            "Epoch 7/7\n",
            "540/540 - 11s - loss: 0.0244 - accuracy: 0.9922 - val_loss: 0.0293 - val_accuracy: 0.9910\n"
          ],
          "name": "stdout"
        },
        {
          "output_type": "execute_result",
          "data": {
            "text/plain": [
              "<tensorflow.python.keras.callbacks.History at 0x7faf79b962e8>"
            ]
          },
          "metadata": {
            "tags": []
          },
          "execution_count": 9
        }
      ]
    },
    {
      "cell_type": "code",
      "metadata": {
        "id": "SdGhloBKrjfR",
        "colab_type": "code",
        "outputId": "6905afb3-d804-4e6e-ac4f-b09f3c83fd92",
        "colab": {
          "base_uri": "https://localhost:8080/",
          "height": 34
        }
      },
      "source": [
        "test_loss, test_accuracy = model.evaluate(test_data)"
      ],
      "execution_count": 0,
      "outputs": [
        {
          "output_type": "stream",
          "text": [
            "1/1 [==============================] - 0s 2ms/step - loss: 0.0856 - accuracy: 0.9730\n"
          ],
          "name": "stdout"
        }
      ]
    },
    {
      "cell_type": "code",
      "metadata": {
        "id": "AHyADvFxro4V",
        "colab_type": "code",
        "outputId": "2bcf5a18-5df8-494e-a837-ef978d73c087",
        "colab": {
          "base_uri": "https://localhost:8080/",
          "height": 34
        }
      },
      "source": [
        "print('Test loss : {0: .2f}, Accuracy : {1: .1f}%'.format(test_loss, test_accuracy*100))"
      ],
      "execution_count": 0,
      "outputs": [
        {
          "output_type": "stream",
          "text": [
            "Test loss :  0.09, Accuracy :  97.3%\n"
          ],
          "name": "stdout"
        }
      ]
    },
    {
      "cell_type": "code",
      "metadata": {
        "id": "K9bvCPUXrdC5",
        "colab_type": "code",
        "colab": {}
      },
      "source": [
        ""
      ],
      "execution_count": 0,
      "outputs": []
    }
  ]
}